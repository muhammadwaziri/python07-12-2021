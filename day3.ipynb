{
 "cells": [
  {
   "cell_type": "markdown",
   "id": "d22bd1f5-7a12-489e-8d32-bdd68fe97e25",
   "metadata": {},
   "source": [
    "# Arithmetic operators"
   ]
  },
  {
   "cell_type": "code",
   "execution_count": 1,
   "id": "2487f6de-c7a9-4130-87c0-25183c3b5f16",
   "metadata": {},
   "outputs": [],
   "source": [
    "num1 = 15\n",
    "num2 = 3"
   ]
  },
  {
   "cell_type": "code",
   "execution_count": 3,
   "id": "5da03015-ab08-4eee-a374-17ef5b9764fa",
   "metadata": {},
   "outputs": [
    {
     "name": "stdout",
     "output_type": "stream",
     "text": [
      "18\n"
     ]
    }
   ],
   "source": [
    "print(num1 + num2)"
   ]
  },
  {
   "cell_type": "code",
   "execution_count": 4,
   "id": "b81b73ed-249b-435a-8c99-524795829abd",
   "metadata": {},
   "outputs": [
    {
     "name": "stdout",
     "output_type": "stream",
     "text": [
      "12\n"
     ]
    }
   ],
   "source": [
    "print(num1- num2)"
   ]
  },
  {
   "cell_type": "code",
   "execution_count": 5,
   "id": "528f2b2e-1f04-44a8-a621-03312d4b0799",
   "metadata": {},
   "outputs": [
    {
     "name": "stdout",
     "output_type": "stream",
     "text": [
      "45\n"
     ]
    }
   ],
   "source": [
    "print(num1 * num2)"
   ]
  },
  {
   "cell_type": "code",
   "execution_count": 6,
   "id": "a20af84f-e4f2-4eea-a0d4-e1b339c7a87c",
   "metadata": {},
   "outputs": [
    {
     "name": "stdout",
     "output_type": "stream",
     "text": [
      "5.0\n"
     ]
    }
   ],
   "source": [
    "print(num1 / num2)"
   ]
  },
  {
   "cell_type": "code",
   "execution_count": 8,
   "id": "5e5fd966-6cb7-4581-9260-fc035deccdd4",
   "metadata": {},
   "outputs": [
    {
     "name": "stdout",
     "output_type": "stream",
     "text": [
      "0\n"
     ]
    }
   ],
   "source": [
    "print(num1 % num2)"
   ]
  },
  {
   "cell_type": "code",
   "execution_count": 9,
   "id": "50e61e25-6cb6-42d9-b59e-d556c557ba68",
   "metadata": {},
   "outputs": [
    {
     "name": "stdout",
     "output_type": "stream",
     "text": [
      "5\n"
     ]
    }
   ],
   "source": [
    "print(num1 // num2)"
   ]
  },
  {
   "cell_type": "code",
   "execution_count": 10,
   "id": "1a5137ab-db78-4ade-a19f-ef7e8458f9d5",
   "metadata": {},
   "outputs": [
    {
     "name": "stdout",
     "output_type": "stream",
     "text": [
      "3375\n"
     ]
    }
   ],
   "source": [
    "print(num1 ** num2)"
   ]
  },
  {
   "cell_type": "markdown",
   "id": "3cef0b1c-dd45-4747-abc3-9ff0af138ee3",
   "metadata": {},
   "source": [
    "# Comparison Operators"
   ]
  },
  {
   "cell_type": "code",
   "execution_count": 11,
   "id": "ce33c6a9-0ebe-4788-a201-ff0bdc4cbd43",
   "metadata": {},
   "outputs": [
    {
     "name": "stdout",
     "output_type": "stream",
     "text": [
      "True\n"
     ]
    }
   ],
   "source": [
    "print(num1 > num2)"
   ]
  },
  {
   "cell_type": "code",
   "execution_count": 12,
   "id": "f8e45b33-6233-47ba-a75c-12d56870df5f",
   "metadata": {},
   "outputs": [
    {
     "name": "stdout",
     "output_type": "stream",
     "text": [
      "False\n"
     ]
    }
   ],
   "source": [
    "print(num1 < num2)"
   ]
  },
  {
   "cell_type": "code",
   "execution_count": 13,
   "id": "a5c8104e-b147-43cf-83d4-d982edd5696c",
   "metadata": {},
   "outputs": [
    {
     "name": "stdout",
     "output_type": "stream",
     "text": [
      "True\n"
     ]
    }
   ],
   "source": [
    "print(num1 >=num2)"
   ]
  },
  {
   "cell_type": "code",
   "execution_count": 14,
   "id": "03b43ccc-da25-4a71-b5f7-78d87d79dde2",
   "metadata": {},
   "outputs": [
    {
     "name": "stdout",
     "output_type": "stream",
     "text": [
      "False\n"
     ]
    }
   ],
   "source": [
    "print(num1<=num2)"
   ]
  },
  {
   "cell_type": "code",
   "execution_count": 15,
   "id": "d6bc5ee1-b4db-4fb7-85dd-3b183ca6ec11",
   "metadata": {},
   "outputs": [
    {
     "name": "stdout",
     "output_type": "stream",
     "text": [
      "False\n"
     ]
    }
   ],
   "source": [
    "print(num1 == num2)"
   ]
  },
  {
   "cell_type": "code",
   "execution_count": 16,
   "id": "1a54ebd9-27e7-4493-a8e2-34c171196558",
   "metadata": {},
   "outputs": [
    {
     "name": "stdout",
     "output_type": "stream",
     "text": [
      "True\n"
     ]
    }
   ],
   "source": [
    "print(num1 != num2)"
   ]
  },
  {
   "cell_type": "markdown",
   "id": "e768c45e-8c17-43d6-be21-9a6239461612",
   "metadata": {},
   "source": [
    "# Logical Operators"
   ]
  },
  {
   "cell_type": "code",
   "execution_count": 17,
   "id": "6efc5256-2606-4e02-b825-c0cba149a90b",
   "metadata": {},
   "outputs": [
    {
     "name": "stdout",
     "output_type": "stream",
     "text": [
      "False\n"
     ]
    }
   ],
   "source": [
    "print(num1 > num2 and num1 < num2)"
   ]
  },
  {
   "cell_type": "code",
   "execution_count": 20,
   "id": "0f7eaac3-ba42-4e25-96f8-eb5305e8ae56",
   "metadata": {},
   "outputs": [
    {
     "name": "stdout",
     "output_type": "stream",
     "text": [
      "True\n"
     ]
    }
   ],
   "source": [
    "print(num1 > num2 or num1 < num2)"
   ]
  },
  {
   "cell_type": "code",
   "execution_count": 21,
   "id": "8dbfa641-e509-4e16-a3ef-90bcce2e61dd",
   "metadata": {},
   "outputs": [
    {
     "name": "stdout",
     "output_type": "stream",
     "text": [
      "False\n"
     ]
    }
   ],
   "source": [
    "print(not num1)"
   ]
  },
  {
   "cell_type": "markdown",
   "id": "aa2d358e-de35-48f1-a7f8-8a5aeac37e88",
   "metadata": {},
   "source": [
    "# Identity Operator"
   ]
  },
  {
   "cell_type": "code",
   "execution_count": 23,
   "id": "22e60432-2085-4742-8eaf-6122310508fc",
   "metadata": {},
   "outputs": [
    {
     "name": "stdout",
     "output_type": "stream",
     "text": [
      "False\n"
     ]
    }
   ],
   "source": [
    "print(num1 is num2)"
   ]
  },
  {
   "cell_type": "code",
   "execution_count": 24,
   "id": "cdf22f02-9ec1-4af4-939c-a2773f8defaa",
   "metadata": {},
   "outputs": [
    {
     "name": "stdout",
     "output_type": "stream",
     "text": [
      "True\n"
     ]
    }
   ],
   "source": [
    "print(num1 is not num2)"
   ]
  },
  {
   "cell_type": "code",
   "execution_count": 25,
   "id": "7b12fa16-d4c7-4d6e-af7a-31e925b3e00d",
   "metadata": {},
   "outputs": [],
   "source": [
    "course = 'python'"
   ]
  },
  {
   "cell_type": "markdown",
   "id": "4b41f594-1ef2-457e-b852-2ca2ad74c4da",
   "metadata": {},
   "source": [
    "# Membership Operators"
   ]
  },
  {
   "cell_type": "code",
   "execution_count": 27,
   "id": "434b0f27-207c-499d-bae7-70d429e53907",
   "metadata": {},
   "outputs": [
    {
     "name": "stdout",
     "output_type": "stream",
     "text": [
      "True\n"
     ]
    }
   ],
   "source": [
    "print('p'in course)"
   ]
  },
  {
   "cell_type": "code",
   "execution_count": 28,
   "id": "269639f3-c6e9-4ba7-b6a5-8b947d199b3f",
   "metadata": {},
   "outputs": [
    {
     "name": "stdout",
     "output_type": "stream",
     "text": [
      "False\n"
     ]
    }
   ],
   "source": [
    "print('p' not in course)"
   ]
  },
  {
   "cell_type": "code",
   "execution_count": 31,
   "id": "cb52a626-075f-4dd9-a235-a07880fc8eda",
   "metadata": {},
   "outputs": [
    {
     "name": "stdin",
     "output_type": "stream",
     "text": [
      "please provide your name; Ayo\n"
     ]
    }
   ],
   "source": [
    "name=input('please provide your name;')\n"
   ]
  },
  {
   "cell_type": "code",
   "execution_count": 32,
   "id": "9f51d729-ab2a-4407-96a5-23cc06019225",
   "metadata": {},
   "outputs": [
    {
     "name": "stdout",
     "output_type": "stream",
     "text": [
      "Ayo\n"
     ]
    }
   ],
   "source": [
    "print(name)"
   ]
  },
  {
   "cell_type": "code",
   "execution_count": 33,
   "id": "a89ff8e6-a04f-472f-9e18-7e2c20bfe5ce",
   "metadata": {},
   "outputs": [
    {
     "name": "stdin",
     "output_type": "stream",
     "text": [
      "please provide your age: 10\n"
     ]
    }
   ],
   "source": [
    "Age = int(input('please provide your age:'))"
   ]
  },
  {
   "cell_type": "code",
   "execution_count": null,
   "id": "f3b0cb6c-420f-4e4b-8fc8-091345331ca7",
   "metadata": {},
   "outputs": [],
   "source": []
  }
 ],
 "metadata": {
  "kernelspec": {
   "display_name": "Python 3",
   "language": "python",
   "name": "python3"
  },
  "language_info": {
   "codemirror_mode": {
    "name": "ipython",
    "version": 3
   },
   "file_extension": ".py",
   "mimetype": "text/x-python",
   "name": "python",
   "nbconvert_exporter": "python",
   "pygments_lexer": "ipython3",
   "version": "3.8.8"
  }
 },
 "nbformat": 4,
 "nbformat_minor": 5
}
