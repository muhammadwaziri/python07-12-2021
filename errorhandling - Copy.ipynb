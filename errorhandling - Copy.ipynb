{
 "cells": [
  {
   "cell_type": "code",
   "execution_count": null,
   "metadata": {},
   "outputs": [],
   "source": [
    "#try\n",
    "#except\n",
    "#else\n",
    "#finally"
   ]
  },
  {
   "cell_type": "code",
   "execution_count": 2,
   "metadata": {},
   "outputs": [
    {
     "name": "stdin",
     "output_type": "stream",
     "text": [
      "enter the first number: 10\n",
      "enter the second number: 5\n"
     ]
    },
    {
     "name": "stdout",
     "output_type": "stream",
     "text": [
      "You have encounter one or more errors\n"
     ]
    }
   ],
   "source": [
    "try:\n",
    "    num1 = int(input('enter the first number:'))\n",
    "    num2 = int(input('enter the second number:'))\n",
    "    print(num/num2)\n",
    "except:\n",
    "    print('You have encounter one or more errors')"
   ]
  },
  {
   "cell_type": "code",
   "execution_count": 3,
   "metadata": {},
   "outputs": [
    {
     "name": "stdin",
     "output_type": "stream",
     "text": [
      "Enter the first number 10\n",
      "Enter the second number 5\n"
     ]
    },
    {
     "name": "stdout",
     "output_type": "stream",
     "text": [
      "2.0\n"
     ]
    }
   ],
   "source": [
    "try:\n",
    "    num1 = int(input('Enter the first number'))\n",
    "    num2 = int(input('Enter the second number'))\n",
    "    print(num1/num2)\n",
    "except ValueError:\n",
    "    print('You have entered a wrong value,whole numbers is expected')\n",
    "except ZeroDivisionError:\n",
    "        print('You can not divide a number by zero')\n",
    "except:\n",
    "    print('You have encounter one r more errors')"
   ]
  },
  {
   "cell_type": "code",
   "execution_count": 10,
   "metadata": {},
   "outputs": [
    {
     "ename": "SyntaxError",
     "evalue": "EOL while scanning string literal (<ipython-input-10-0ed77290c936>, line 6)",
     "output_type": "error",
     "traceback": [
      "\u001b[1;36m  File \u001b[1;32m\"<ipython-input-10-0ed77290c936>\"\u001b[1;36m, line \u001b[1;32m6\u001b[0m\n\u001b[1;33m    print(f'{num1} + {num2} = {num1} + {num1} + {num2}\u001b[0m\n\u001b[1;37m                                                      ^\u001b[0m\n\u001b[1;31mSyntaxError\u001b[0m\u001b[1;31m:\u001b[0m EOL while scanning string literal\n"
     ]
    }
   ],
   "source": [
    "try:\n",
    "    num1 = int(input('Enter the first number'))\n",
    "    num2 = int(input('Enter the second number'))\n",
    "    choice = input('choose an operation(+,-,/,*):')\n",
    "    if choice == '+':\n",
    "        print(f'{num1} + {num2} = {num1} + {num1} + {num2}\n",
    "    elif choice == '-':\n",
    "        print(f'{num1} - {num2} = {num1 - num2}')\n",
    "    elif choice == '*':\n",
    "        print(f'{num1} * {num2} = {num1 * num2})\n",
    "    elif choice\n",
    "              \n",
    "    elif choice == '/':\n",
    "       print(num1/num2)\n",
    "    elif choice == '*':\n",
    "      print(num1*num2)\n",
    "    \n"
   ]
  },
  {
   "cell_type": "code",
   "execution_count": 9,
   "metadata": {},
   "outputs": [
    {
     "name": "stdout",
     "output_type": "stream",
     "text": [
      "Row1 : rice and additions\n",
      "    Row2 : Swallows and additions\n",
      "    row3 : pastries\n",
      "    row4: pepper soup\n",
      "    \n"
     ]
    },
    {
     "name": "stdin",
     "output_type": "stream",
     "text": [
      "Please enter your row: 1\n"
     ]
    },
    {
     "name": "stdout",
     "output_type": "stream",
     "text": [
      "You are going to be served rice\n",
      "Thank you for patronizing us\n",
      "End of program\n"
     ]
    }
   ],
   "source": [
    "try:\n",
    "    print('''Row1 : rice and additions\n",
    "    Row2 : Swallows and additions\n",
    "    row3 : pastries\n",
    "    row4: pepper soup\n",
    "    ''')\n",
    "    choice = int(input('Please enter your row:'))\n",
    "    if choice == 1:\n",
    "        print('You are going to be served rice')\n",
    "    elif choice  ==2:\n",
    "        print('You are going to be served Swallow')\n",
    "    elif choice ==3:\n",
    "        print('You are going to be served pastries')\n",
    "    elif choice ==4:\n",
    "        print('You are going to be served pepper soup')\n",
    "except ValueError:\n",
    "    print('You are on a wrong row')\n",
    "except TypeError:\n",
    "    print('You choosed the wrong item')\n",
    "        \n",
    "else:\n",
    "    print('Thank you for patronizing us')\n",
    "        \n",
    "finally:\n",
    "    print('End of program')\n",
    "    \n",
    "    \n",
    "        \n",
    "        "
   ]
  },
  {
   "cell_type": "code",
   "execution_count": null,
   "metadata": {},
   "outputs": [],
   "source": []
  }
 ],
 "metadata": {
  "kernelspec": {
   "display_name": "Python 3",
   "language": "python",
   "name": "python3"
  },
  "language_info": {
   "codemirror_mode": {
    "name": "ipython",
    "version": 3
   },
   "file_extension": ".py",
   "mimetype": "text/x-python",
   "name": "python",
   "nbconvert_exporter": "python",
   "pygments_lexer": "ipython3",
   "version": "3.7.3"
  }
 },
 "nbformat": 4,
 "nbformat_minor": 4
}
