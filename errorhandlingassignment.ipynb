{
 "cells": [
  {
   "cell_type": "code",
   "execution_count": null,
   "metadata": {},
   "outputs": [],
   "source": []
  },
  {
   "cell_type": "code",
   "execution_count": 54,
   "metadata": {},
   "outputs": [
    {
     "name": "stdout",
     "output_type": "stream",
     "text": [
      "desk1 :customer service\n",
      "    desk2 :opening of account\n",
      "    desk3 : renewal of atm\n",
      "    desk4: deposit and withdrawal\n",
      "    \n"
     ]
    },
    {
     "name": "stdin",
     "output_type": "stream",
     "text": [
      "Hello what type of operation would you like to perform: cs\n"
     ]
    },
    {
     "name": "stdout",
     "output_type": "stream",
     "text": [
      "Welcome to Keystone Bank you have been directed to desk1 to lay your complain\n",
      "Thank you for banking with us,Hope you enjoyed our services\n",
      "End of program\n"
     ]
    }
   ],
   "source": [
    "try:\n",
    "    print('''desk1 :customer service\n",
    "    desk2 :opening of account\n",
    "    desk3 : renewal of atm\n",
    "    desk4: deposit and withdrawal\n",
    "    ''')\n",
    "    choice = str(input('Hello what type of operation would you like to perform:'))\n",
    "    if choice == 'cs':\n",
    "        print('Welcome to Keystone Bank you have been directed to desk1 to lay your complain')\n",
    "    elif choice  =='ao':\n",
    "        print('Welcome to Keystone Bank you have been directed to desk2 hope you will enjoy our services')\n",
    "    elif choice =='ra':\n",
    "        print('Welcome to Keystone Bank you have been directed to desk3 to renew your atm card')\n",
    "    elif choice =='dp and wd':\n",
    "        print('Welcome to Keystone Bank you have been directed to desk4 to deposit and withdraw money')\n",
    "except ValueError:\n",
    "    print('You choose a wrong operation ')\n",
    "except TypeError:\n",
    "    print('You choosed a wrong desk')\n",
    "        \n",
    "else:\n",
    "    print('Thank you for banking with us,Hope you enjoyed our services')\n",
    "    \n",
    "            \n",
    "finally:\n",
    "    print('End of program')\n",
    "\n",
    "    \n",
    "        \n",
    "        "
   ]
  }
 ],
 "metadata": {
  "kernelspec": {
   "display_name": "Python 3",
   "language": "python",
   "name": "python3"
  },
  "language_info": {
   "codemirror_mode": {
    "name": "ipython",
    "version": 3
   },
   "file_extension": ".py",
   "mimetype": "text/x-python",
   "name": "python",
   "nbconvert_exporter": "python",
   "pygments_lexer": "ipython3",
   "version": "3.8.5"
  }
 },
 "nbformat": 4,
 "nbformat_minor": 4
}
