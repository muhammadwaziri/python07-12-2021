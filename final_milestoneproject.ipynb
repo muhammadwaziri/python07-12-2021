{
 "cells": [
  {
   "cell_type": "code",
   "execution_count": 28,
   "metadata": {},
   "outputs": [],
   "source": [
    "class staff_management_system:\n",
    "    def __init__(self,s_id,s_name,s_gender,s_phone_no,s_email,s_doe,s_department,s_level,s_position):\n",
    "        self.s_id = s_id\n",
    "        self.s_name = s_name\n",
    "        self.s_gender = s_gender\n",
    "        self.s_phone_no = s_phone_no\n",
    "        self.s_email = s_email\n",
    "        self.s_department= s_department\n",
    "        self.s_level = s_level\n",
    "        self.s_position = s_position\n",
    "        self.s_doe = s_doe\n",
    "    def accept(self,S_ID,S_NAME,S_GENDER,S_PHONE_NO,S_EMAIL,S_DOE,S_DEPARTMENT,S_LEVEL,S_POSITION):\n",
    "        ob = staff_management_system(S_ID,S_NAME,S_GENDER,S_PHONE_NO,S_EMAIL,S_DOE,S_DEPARTMENT,S_LEVEL,S_POSITION)\n",
    "        ls.append(ob)\n",
    "    def display(self,ob):\n",
    "        print(f'''Staff Id:{ob.s_id}\n",
    "Staff Name:{ob.s_name}\n",
    "Staff Gender:{ob.s_gender}\n",
    "Staff Phone Number:{ob.s_phone_no}\n",
    "Staff Email:{ob.s_email}\n",
    "Staff Date of Employment:{ob.s_doe}\n",
    "Staff Department:{ob.s_department}\n",
    "Staff Level:{ob.s_level}\n",
    "Staff Position:{ob.s_position}\n",
    "''')\n",
    "    def search(self,ID):\n",
    "        for i in range(len(ls)):\n",
    "            if(ls[i].s_id == ID):\n",
    "                return i\n",
    "    def delete(self,ID):\n",
    "        i = obj.search(ID)\n",
    "        del[i]\n",
    "    def update(self,s_id,NN):\n",
    "        n = obj.search(s_id)\n",
    "        roll = NN\n",
    "        ls[n].s_id=roll\n",
    "ls = []\n",
    "obj = staff_management_system('','','','','','','','','' ) "
   ]
  },
  {
   "cell_type": "code",
   "execution_count": 29,
   "metadata": {},
   "outputs": [],
   "source": [
    "obj.accept('ADMM235','Ojukwu Henry','Male','0812569745','henryoju@gmail.com','23-05-2000','ADMIN','Intermidiate','Administrative')\n",
    "obj.accept('PLT589','Akpan Okon','Male','08075362145','akpan025@gmail.com','15-12-1990','PLANT','Senior','Senior Plant Admin')\n",
    "obj.accept('SFTY897','Mary Ifanyi','Female','09067546733','Maryiu@gmail.com','25-02-1898','Safty','Senior','Senior Safty officer')\n",
    "obj.accept('ADM4535','Joy James','Female','08056743276','joyjames@gmail.com','23-078-2005','ADMIN','Junior','Clerk')\n",
    "obj.accept('ELT25698','Oghene Obafo','Male','09123516687','Obafo928@gmail.com','23-05-2000','ADMIN','Intermidiate','Administrative2')"
   ]
  },
  {
   "cell_type": "code",
   "execution_count": 30,
   "metadata": {},
   "outputs": [
    {
     "name": "stdout",
     "output_type": "stream",
     "text": [
      "Staff Id:ADMM235\n",
      "Staff Name:Ojukwu Henry\n",
      "Staff Gender:Male\n",
      "Staff Phone Number:0812569745\n",
      "Staff Email:henryoju@gmail.com\n",
      "Staff Date of Employment:23-05-2000\n",
      "Staff Department:ADMIN\n",
      "Staff Level:Intermidiate\n",
      "Staff Position:Administrative\n",
      "\n",
      "Staff Id:PLT589\n",
      "Staff Name:Akpan Okon\n",
      "Staff Gender:Male\n",
      "Staff Phone Number:08075362145\n",
      "Staff Email:akpan025@gmail.com\n",
      "Staff Date of Employment:15-12-1990\n",
      "Staff Department:PLANT\n",
      "Staff Level:Senior\n",
      "Staff Position:Senior Plant Admin\n",
      "\n",
      "Staff Id:SFTY897\n",
      "Staff Name:Mary Ifanyi\n",
      "Staff Gender:Female\n",
      "Staff Phone Number:09067546733\n",
      "Staff Email:Maryiu@gmail.com\n",
      "Staff Date of Employment:25-02-1898\n",
      "Staff Department:Safty\n",
      "Staff Level:Senior\n",
      "Staff Position:Senior Safty officer\n",
      "\n",
      "Staff Id:ADM4535\n",
      "Staff Name:Joy James\n",
      "Staff Gender:Female\n",
      "Staff Phone Number:08056743276\n",
      "Staff Email:joyjames@gmail.com\n",
      "Staff Date of Employment:23-078-2005\n",
      "Staff Department:ADMIN\n",
      "Staff Level:Junior\n",
      "Staff Position:Clerk\n",
      "\n",
      "Staff Id:ELT25698\n",
      "Staff Name:Oghene Obafo\n",
      "Staff Gender:Male\n",
      "Staff Phone Number:09123516687\n",
      "Staff Email:Obafo928@gmail.com\n",
      "Staff Date of Employment:23-05-2000\n",
      "Staff Department:ADMIN\n",
      "Staff Level:Intermidiate\n",
      "Staff Position:Administrative2\n",
      "\n"
     ]
    }
   ],
   "source": [
    "for i in range(len(ls)):\n",
    "    obj.display(ls[i])"
   ]
  },
  {
   "cell_type": "code",
   "execution_count": 31,
   "metadata": {},
   "outputs": [
    {
     "name": "stdout",
     "output_type": "stream",
     "text": [
      "Staff Id:SFTY897\n",
      "Staff Name:Mary Ifanyi\n",
      "Staff Gender:Female\n",
      "Staff Phone Number:09067546733\n",
      "Staff Email:Maryiu@gmail.com\n",
      "Staff Date of Employment:25-02-1898\n",
      "Staff Department:Safty\n",
      "Staff Level:Senior\n",
      "Staff Position:Senior Safty officer\n",
      "\n"
     ]
    }
   ],
   "source": [
    "s = obj.search('SFTY897')\n",
    "obj.display(ls[s])"
   ]
  },
  {
   "cell_type": "code",
   "execution_count": 32,
   "metadata": {},
   "outputs": [
    {
     "name": "stdout",
     "output_type": "stream",
     "text": [
      "Staff Id:ADMM235\n",
      "Staff Name:Ojukwu Henry\n",
      "Staff Gender:Male\n",
      "Staff Phone Number:0812569745\n",
      "Staff Email:henryoju@gmail.com\n",
      "Staff Date of Employment:23-05-2000\n",
      "Staff Department:ADMIN\n",
      "Staff Level:Intermidiate\n",
      "Staff Position:Administrative\n",
      "\n",
      "Staff Id:PLT589\n",
      "Staff Name:Akpan Okon\n",
      "Staff Gender:Male\n",
      "Staff Phone Number:08075362145\n",
      "Staff Email:akpan025@gmail.com\n",
      "Staff Date of Employment:15-12-1990\n",
      "Staff Department:PLANT\n",
      "Staff Level:Senior\n",
      "Staff Position:Senior Plant Admin\n",
      "\n",
      "Staff Id:SFTY897\n",
      "Staff Name:Mary Ifanyi\n",
      "Staff Gender:Female\n",
      "Staff Phone Number:09067546733\n",
      "Staff Email:Maryiu@gmail.com\n",
      "Staff Date of Employment:25-02-1898\n",
      "Staff Department:Safty\n",
      "Staff Level:Senior\n",
      "Staff Position:Senior Safty officer\n",
      "\n",
      "Staff Id:ADM4535\n",
      "Staff Name:Joy James\n",
      "Staff Gender:Female\n",
      "Staff Phone Number:08056743276\n",
      "Staff Email:joyjames@gmail.com\n",
      "Staff Date of Employment:23-078-2005\n",
      "Staff Department:ADMIN\n",
      "Staff Level:Junior\n",
      "Staff Position:Clerk\n",
      "\n",
      "Staff Id:ELT25698\n",
      "Staff Name:Oghene Obafo\n",
      "Staff Gender:Male\n",
      "Staff Phone Number:09123516687\n",
      "Staff Email:Obafo928@gmail.com\n",
      "Staff Date of Employment:23-05-2000\n",
      "Staff Department:ADMIN\n",
      "Staff Level:Intermidiate\n",
      "Staff Position:Administrative2\n",
      "\n"
     ]
    }
   ],
   "source": [
    "obj.delete('ADM4535')\n",
    "for i in range(len(ls)):\n",
    "    obj.display(ls[i])"
   ]
  },
  {
   "cell_type": "code",
   "execution_count": null,
   "metadata": {},
   "outputs": [],
   "source": []
  }
 ],
 "metadata": {
  "kernelspec": {
   "display_name": "Python 3",
   "language": "python",
   "name": "python3"
  },
  "language_info": {
   "codemirror_mode": {
    "name": "ipython",
    "version": 3
   },
   "file_extension": ".py",
   "mimetype": "text/x-python",
   "name": "python",
   "nbconvert_exporter": "python",
   "pygments_lexer": "ipython3",
   "version": "3.8.3"
  }
 },
 "nbformat": 4,
 "nbformat_minor": 4
}
