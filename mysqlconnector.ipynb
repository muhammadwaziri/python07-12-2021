{
 "cells": [
  {
   "cell_type": "code",
   "execution_count": 1,
   "metadata": {},
   "outputs": [],
   "source": [
    "import mysql.connector"
   ]
  },
  {
   "cell_type": "code",
   "execution_count": 6,
   "metadata": {},
   "outputs": [
    {
     "name": "stdout",
     "output_type": "stream",
     "text": [
      "('goods',)\n",
      "('information_schema',)\n",
      "('mysql',)\n",
      "('performance_schema',)\n",
      "('sys',)\n"
     ]
    }
   ],
   "source": [
    "mydb = mysql.connector.connect(\n",
    "    host = 'localhost',\n",
    "    user = 'earlycode',\n",
    "    password = '1234'\n",
    ")\n",
    "mycursor =mydb.cursor()\n",
    "mycursor.execute('SHOW DATABASE')\n",
    "for x in mycursor:\n",
    "    print(x)"
   ]
  },
  {
   "cell_type": "code",
   "execution_count": 9,
   "metadata": {},
   "outputs": [],
   "source": [
    "mydb = mysql.connector.connect(\n",
    "    host = 'localhost',\n",
    "    user = 'earlycode',\n",
    "    password = '1234',\n",
    "    database = 'goods'\n",
    ")\n",
    "mycursor =mydb.cursor()\n",
    "mycursor.execute('CREATE TABLE item2(id int,item_seria_no varchar(255),item_name varchar(255),old_quantity int,new_quantity int,date_of_delivery date)')\n"
   ]
  },
  {
   "cell_type": "code",
   "execution_count": 12,
   "metadata": {},
   "outputs": [
    {
     "name": "stdout",
     "output_type": "stream",
     "text": [
      "1 records was inserted\n"
     ]
    }
   ],
   "source": [
    "mydb = mysql.connector.connect(\n",
    "    host = 'localhost',\n",
    "    user = 'earlycode',\n",
    "    password = '1234',\n",
    "    database = 'goods'\n",
    ")\n",
    "sql = 'INSERT INTO item2(id,item_seria_no,item_name,old_quantity,new_quantity,date_of_delivery) VALUES(%s,%s,%s,%s,%s,%s)'\n",
    "val = (1,'PLATE0258','Plate',15,80,'2021-11-20')\n",
    "mycursor =mydb.cursor()\n",
    "mycursor.execute(sql,val)\n",
    "mydb.commit()\n",
    "print(mycursor.rowcount,'records was inserted')\n",
    "\n"
   ]
  },
  {
   "cell_type": "code",
   "execution_count": null,
   "metadata": {},
   "outputs": [],
   "source": []
  },
  {
   "cell_type": "code",
   "execution_count": 17,
   "metadata": {},
   "outputs": [
    {
     "name": "stdout",
     "output_type": "stream",
     "text": [
      "9 records was inserted\n"
     ]
    }
   ],
   "source": [
    "mydb = mysql.connector.connect(\n",
    "    host = 'localhost',\n",
    "    user = 'earlycode',\n",
    "    password = '1234',\n",
    "    database = 'goods'\n",
    ")\n",
    "sql = 'INSERT INTO item2(id,item_seria_no,item_name,old_quantity,new_quantity,date_of_delivery) VALUES(%s,%s,%s,%s,%s,%s)'\n",
    "val = [(2,'SPOON5689','Spoon',25,100,'2021-11-21'),\n",
    "       (3,'CUPS898','cups',65,80,'2021-11-22'),\n",
    "       (4,'BLADE2368','Blade',100,100,'2021-11-22'),\n",
    "       (5,'MOP8985','Moping Stick',25,25,'2021-11-23'),\n",
    "       (6,'BUCKET5698','Bucket',20,100,'2021-11-24'),\n",
    "       (7,'BRUSH253','Brush',60,150,'2021-11-24'),\n",
    "       (8,'SHOE8978','BOOT',60,150,'2021-11-24'),\n",
    "       (9,'SHOE8978','Sandals',50,120,'2021-11-24'),\n",
    "       (10,'SHOE8978','Slippers',25,1000,'2021-11-24'),]\n",
    "       \n",
    "mycursor =mydb.cursor()\n",
    "mycursor.executemany(sql,val)\n",
    "mydb.commit()\n",
    "print(mycursor.rowcount,'records was inserted')\n",
    "\n"
   ]
  },
  {
   "cell_type": "code",
   "execution_count": 18,
   "metadata": {},
   "outputs": [
    {
     "name": "stdout",
     "output_type": "stream",
     "text": [
      "(1, 'PLATE0258', 'Plate', 15, 80, datetime.date(2021, 11, 20))\n",
      "(2, 'SPOON5689', 'Spoon', 25, 100, datetime.date(2021, 11, 21))\n",
      "(3, 'CUPS898', 'cups', 65, 80, datetime.date(2021, 11, 22))\n",
      "(4, 'BLADE2368', 'Blade', 100, 100, datetime.date(2021, 11, 22))\n",
      "(5, 'MOP8985', 'Moping Stick', 25, 25, datetime.date(2021, 11, 23))\n",
      "(6, 'BUCKET5698', 'Bucket', 20, 100, datetime.date(2021, 11, 24))\n",
      "(7, 'BRUSH253', 'Brush', 60, 150, datetime.date(2021, 11, 24))\n",
      "(8, 'SHOE8978', 'BOOT', 60, 150, datetime.date(2021, 11, 24))\n",
      "(9, 'SHOE8978', 'Sandals', 50, 120, datetime.date(2021, 11, 24))\n",
      "(10, 'SHOE8978', 'Slippers', 25, 1000, datetime.date(2021, 11, 24))\n"
     ]
    }
   ],
   "source": [
    "mydb = mysql.connector.connect(\n",
    "    host = 'localhost',\n",
    "    user = 'earlycode',\n",
    "    password = '1234',\n",
    "    database = 'goods'\n",
    ")\n",
    "mycursor =mydb.cursor()\n",
    "mycursor.execute('SELECT * FROM item2')\n",
    "result = mycursor.fetchall()\n",
    "for x in result:\n",
    "    print(x)"
   ]
  },
  {
   "cell_type": "code",
   "execution_count": 19,
   "metadata": {},
   "outputs": [
    {
     "name": "stdout",
     "output_type": "stream",
     "text": [
      "(8, 'SHOE8978', 'BOOT', 60, 150, datetime.date(2021, 11, 24))\n",
      "(9, 'SHOE8978', 'Sandals', 50, 120, datetime.date(2021, 11, 24))\n",
      "(10, 'SHOE8978', 'Slippers', 25, 1000, datetime.date(2021, 11, 24))\n"
     ]
    }
   ],
   "source": [
    "mydb = mysql.connector.connect(\n",
    "    host = 'localhost',\n",
    "    user = 'earlycode',\n",
    "    password = '1234',\n",
    "    database = 'goods'\n",
    ")\n",
    "mycursor =mydb.cursor()\n",
    "mycursor.execute(\"SELECT * FROM item2 WHERE item_seria_no = 'SHOE8978' \")\n",
    "result = mycursor.fetchall()\n",
    "for x in result:\n",
    "    print(x)"
   ]
  },
  {
   "cell_type": "code",
   "execution_count": 21,
   "metadata": {},
   "outputs": [
    {
     "name": "stdout",
     "output_type": "stream",
     "text": [
      "(2, 'SPOON5689', 'Spoon', 25, 100, datetime.date(2021, 11, 21))\n",
      "(4, 'BLADE2368', 'Blade', 100, 100, datetime.date(2021, 11, 22))\n",
      "(6, 'BUCKET5698', 'Bucket', 20, 100, datetime.date(2021, 11, 24))\n"
     ]
    }
   ],
   "source": [
    "mydb = mysql.connector.connect(\n",
    "    host = 'localhost',\n",
    "    user = 'earlycode',\n",
    "    password = '1234',\n",
    "    database = 'goods'\n",
    ")\n",
    "mycursor =mydb.cursor()\n",
    "mycursor.execute('SELECT * FROM item2 WHERE new_quantity = 100 ')\n",
    "result = mycursor.fetchall()\n",
    "for x in result:\n",
    "    print(x)"
   ]
  },
  {
   "cell_type": "code",
   "execution_count": null,
   "metadata": {},
   "outputs": [],
   "source": []
  }
 ],
 "metadata": {
  "kernelspec": {
   "display_name": "Python 3",
   "language": "python",
   "name": "python3"
  },
  "language_info": {
   "codemirror_mode": {
    "name": "ipython",
    "version": 3
   },
   "file_extension": ".py",
   "mimetype": "text/x-python",
   "name": "python",
   "nbconvert_exporter": "python",
   "pygments_lexer": "ipython3",
   "version": "3.7.3"
  }
 },
 "nbformat": 4,
 "nbformat_minor": 4
}
